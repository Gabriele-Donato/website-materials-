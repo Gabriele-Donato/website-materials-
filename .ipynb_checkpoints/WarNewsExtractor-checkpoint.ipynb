{
 "cells": [
  {
   "cell_type": "code",
   "execution_count": 59,
   "id": "07f541d0",
   "metadata": {},
   "outputs": [],
   "source": [
    "from kafka import KafkaProducer\n",
    "import json\n",
    "\n",
    "class ResourceExtractor:\n",
    "    \n",
    "    def __init__(self):\n",
    "        self.russo_ukranian_war_sources = [\n",
    "            'https://www.understandingwar.org/backgrounder/ukraine-conflict-updates',\n",
    "            'https://www.understandingwar.org/backgrounder/ukraine-conflicts-updates-january-2-may-31-2024',\n",
    "            ]\n",
    "        self.all_resources = {'ISW_Russia_Ukraine_War': self.russo_ukranian_war_sources}\n",
    "        self.output = {key:'' for key in self.all_resources}\n",
    "        self.producer = KafkaProducer(bootstrap_servers='localhost:9092', \n",
    "                                      value_serializer=lambda v: json.dumps(v).encode('utf-8'))\n",
    "    \n",
    "    def url_assigner(self, url):\n",
    "        for key, value_list in self.all_resources.items():\n",
    "            if url in value_list:\n",
    "                return str(key)\n",
    "        return f'{url} : NOT IDENTIFIED'\n",
    "        \n",
    "    async def text_extractor(self, session, url):\n",
    "        key = self.url_assigner(url)\n",
    "        async with session.get(url) as response:\n",
    "            await asyncio.sleep(1.5)  \n",
    "            if response.status == 200:\n",
    "                html_text = await response.text()\n",
    "                self.output[key] += html_text\n",
    "                self.producer.send('RussoUkraineWar', {key: html_text})  # Send to Kafka\n",
    "\n",
    "    async def run_text_extractor(self):\n",
    "        async with aiohttp.ClientSession() as session:\n",
    "            tasks = [self.text_extractor(session, resource_page) for resource_list in self.all_resources.values() for resource_page in resource_list]\n",
    "            await asyncio.gather(*tasks)\n",
    "            self.producer.flush()  # Ensure all messages are sent\n",
    "            return self.output\n",
    "\n",
    "extractor = ResourceExtractor()\n",
    "output  = await extractor.run_text_extractor()\n"
   ]
  },
  {
   "cell_type": "code",
   "execution_count": null,
   "id": "54045d83",
   "metadata": {},
   "outputs": [],
   "source": []
  },
  {
   "cell_type": "code",
   "execution_count": null,
   "id": "e9dc734f",
   "metadata": {},
   "outputs": [],
   "source": []
  }
 ],
 "metadata": {
  "kernelspec": {
   "display_name": "Python 3 (ipykernel)",
   "language": "python",
   "name": "python3"
  },
  "language_info": {
   "codemirror_mode": {
    "name": "ipython",
    "version": 3
   },
   "file_extension": ".py",
   "mimetype": "text/x-python",
   "name": "python",
   "nbconvert_exporter": "python",
   "pygments_lexer": "ipython3",
   "version": "3.12.4"
  }
 },
 "nbformat": 4,
 "nbformat_minor": 5
}
