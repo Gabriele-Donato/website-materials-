{
 "cells": [
  {
   "cell_type": "markdown",
   "id": "2cadad63",
   "metadata": {},
   "source": [
    "# Hidden Markov Model\n",
    "\n",
    "This notebook defines the general logic of the Hidden Markov Model, as explained in the article on my website. \n",
    "\n",
    "The function returns the column index of the maximum between the two states (which is the final estimate as to whether the system is in the first or second state.) It also returns the sequence of the states with their probability. This allows for choosing the those point in time where the probability of being in any one of the states is higher/lower of a certain threshold."
   ]
  },
  {
   "cell_type": "code",
   "execution_count": null,
   "id": "abeab9e4",
   "metadata": {},
   "outputs": [],
   "source": [
    "import numpy as np\n",
    "import matplotlib.pyplot as plt\n",
    "\n",
    "def forward_back(observations, transition_probabilities, emission_probabilities):\n",
    "    initial_states = np.array((0.5, 0.5))\n",
    "    \n",
    "    𝛼 = np.zeros((observations.shape[0], transition_probabilities.shape[0]))\n",
    "    𝛼[0, :] = emission_probabilities[:, observations[0]] * initial_states \n",
    "    𝛽 = np.zeros((observations.shape[0], transition_probabilities.shape[0]))\n",
    "    𝛽[observations.shape[0] - 1] = np.ones((transition_probabilities.shape[0]))\n",
    "    \n",
    "    most_likely_states = np.zeros((observations.shape[0], transition_probabilities.shape[0]))\n",
    "    \n",
    "    for row in range(1, observations.shape[0]):  # where row is the index of the nth observation.\n",
    "        for column in range(transition_probabilities.shape[0]):  # where the column is the index of the nth state.\n",
    "            𝛼[row, column] = 𝛼[row - 1].dot(transition_probabilities[:, column]) * emission_probabilities[column, observations[row]]\n",
    "            \n",
    "    for element in range(observations.shape[0] - 2, -1, -1):\n",
    "        for state in range(transition_probabilities.shape[0]):\n",
    "            𝛽[element, state] = (𝛽[element + 1] * emission_probabilities[:, observations[element + 1]]).dot(transition_probabilities[state, :])\n",
    "            \n",
    "    for cell in range(most_likely_states.shape[0]):\n",
    "        most_likely_states[cell, :] = (𝛼[cell, :] *  𝛽[cell, :]) / (np.sum(𝛼[cell, :] * 𝛽[cell, :]))\n",
    "        \n",
    "    most_likely_states_sequence = np.argmax(most_likely_states, axis=1)\n",
    "    \n",
    "    return most_likely_states_sequence, most_likely_states\n"
   ]
  },
  {
   "cell_type": "markdown",
   "id": "e5c6a218",
   "metadata": {},
   "source": [
    "observations = np.array([0, 0, 0, 0, 1,1,1,1,1,1, 0, 1, 1, 1,1,1,1,1,1, 0, 0, 0, 2, 2, 2,1,0, 1, 0,0, 2,2,2,2,2,2])\n",
    "\n",
    "transition_probabilities = np.array(((0.4, 0.6),(0.3, 0.7)))\n",
    "emission_probabilities =  np.array(((0.7, 0.2, 0.1), (0.1, 0.2, 0.7)))\n",
    "\n",
    "\n",
    "s = forward_back(observations, transition_probabilities, emission_probabilities)\n",
    "\n",
    "\n",
    "import matplotlib.pyplot as plt\n",
    "\n",
    "plt.plot(s)\n",
    "plt.plot(observations)"
   ]
  },
  {
   "cell_type": "code",
   "execution_count": null,
   "id": "8cc8ff43",
   "metadata": {},
   "outputs": [],
   "source": []
  },
  {
   "cell_type": "code",
   "execution_count": 1,
   "id": "2519d378",
   "metadata": {},
   "outputs": [],
   "source": []
  },
  {
   "cell_type": "code",
   "execution_count": null,
   "id": "bb003f4b",
   "metadata": {},
   "outputs": [],
   "source": []
  },
  {
   "cell_type": "code",
   "execution_count": null,
   "id": "eb72332a",
   "metadata": {},
   "outputs": [],
   "source": []
  },
  {
   "cell_type": "code",
   "execution_count": null,
   "id": "c679b67b",
   "metadata": {},
   "outputs": [],
   "source": []
  },
  {
   "cell_type": "code",
   "execution_count": null,
   "id": "155dd3d7",
   "metadata": {},
   "outputs": [],
   "source": []
  }
 ],
 "metadata": {
  "kernelspec": {
   "display_name": "Python 3 (ipykernel)",
   "language": "python",
   "name": "python3"
  },
  "language_info": {
   "codemirror_mode": {
    "name": "ipython",
    "version": 3
   },
   "file_extension": ".py",
   "mimetype": "text/x-python",
   "name": "python",
   "nbconvert_exporter": "python",
   "pygments_lexer": "ipython3",
   "version": "3.12.4"
  }
 },
 "nbformat": 4,
 "nbformat_minor": 5
}
